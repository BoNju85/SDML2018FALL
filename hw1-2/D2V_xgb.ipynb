{
 "cells": [
  {
   "cell_type": "code",
   "execution_count": 136,
   "metadata": {
    "collapsed": true
   },
   "outputs": [],
   "source": [
    "#from sklearn.feature_extraction.text import TfidfVectorizer\n",
    "import numpy as np\n",
    "from gensim.models.doc2vec import Doc2Vec, TaggedDocument\n",
    "from nltk.tokenize import word_tokenize\n",
    "import nltk\n",
    "#nltk.data.path.append('/home/dada/jupyter/bobo/all/')\n",
    "#nltk.download('punkt')\n",
    "import xml.etree.ElementTree as ET\n",
    "from lxml import etree\n",
    "parser = etree.XMLParser(recover=True)\n",
    "import os\n",
    "data_path = 't2-doc/'"
   ]
  },
  {
   "cell_type": "code",
   "execution_count": 121,
   "metadata": {
    "collapsed": true
   },
   "outputs": [],
   "source": [
    "data = {}\n",
    "for xml in os.listdir(data_path):\n",
    "    with open(data_path + xml) as f:\n",
    "        index = int(xml.split('.xml')[0])\n",
    "        data[index] = {}\n",
    "        #print(index)\n",
    "        tmp = f.read().split('\\n\\n')\n",
    "        #date = etree.fromstringlist(['<date>', tmp[0], '</date>'], parser=parser)[0].text\n",
    "        title = etree.fromstringlist(['<title>', tmp[0], '</title>'], parser=parser)[0].text\n",
    "        try:\n",
    "            abstract = etree.fromstringlist(['<abstract>', tmp[1], '</abstract>'], parser=parser)[0].text\n",
    "        except:\n",
    "            abstract = etree.fromstringlist(['<abstract>', tmp[2], '</abstract>'], parser=parser)[0].text\n",
    "        #print(title)\n",
    "        #print(abstract)\n",
    "        #data[index]['date'] = date\n",
    "        data[index]['title'] = title\n",
    "        data[index]['abstract'] = abstract\n",
    "        "
   ]
  },
  {
   "cell_type": "code",
   "execution_count": 122,
   "metadata": {
    "collapsed": true
   },
   "outputs": [],
   "source": [
    "alltitle = [data[i]['title'].strip()+'.' for i in sorted(data)]\n",
    "allabs = [data[i]['abstract'].strip() for i in sorted(data)]\n",
    "#alldata = [a+b for a,b in zip(alltitle, allabs)]"
   ]
  },
  {
   "cell_type": "code",
   "execution_count": 123,
   "metadata": {},
   "outputs": [
    {
     "name": "stderr",
     "output_type": "stream",
     "text": [
      "/home/dada/.local/lib/python3.5/site-packages/gensim/models/doc2vec.py:570: UserWarning: The parameter `size` is deprecated, will be removed in 4.0.0, use `vector_size` instead.\n",
      "  warnings.warn(\"The parameter `size` is deprecated, will be removed in 4.0.0, use `vector_size` instead.\")\n"
     ]
    },
    {
     "name": "stdout",
     "output_type": "stream",
     "text": [
      "iteration 0\n"
     ]
    },
    {
     "name": "stderr",
     "output_type": "stream",
     "text": [
      "/home/dada/.local/lib/python3.5/site-packages/ipykernel_launcher.py:33: DeprecationWarning: Call to deprecated `iter` (Attribute will be removed in 4.0.0, use self.epochs instead).\n",
      "/home/dada/.local/lib/python3.5/site-packages/ipykernel_launcher.py:36: DeprecationWarning: Call to deprecated `iter` (Attribute will be removed in 4.0.0, use self.epochs instead).\n"
     ]
    },
    {
     "name": "stdout",
     "output_type": "stream",
     "text": [
      "iteration 1\n",
      "iteration 2\n",
      "iteration 3\n",
      "iteration 4\n",
      "iteration 5\n",
      "iteration 6\n",
      "iteration 7\n",
      "iteration 8\n",
      "iteration 9\n",
      "iteration 10\n",
      "iteration 11\n",
      "iteration 12\n",
      "iteration 13\n",
      "iteration 14\n",
      "iteration 15\n",
      "iteration 16\n",
      "iteration 17\n",
      "iteration 18\n",
      "iteration 19\n",
      "iteration 20\n",
      "iteration 21\n",
      "iteration 22\n",
      "iteration 23\n",
      "iteration 24\n",
      "iteration 25\n",
      "iteration 26\n",
      "iteration 27\n",
      "iteration 28\n",
      "iteration 29\n",
      "iteration 30\n",
      "iteration 31\n",
      "iteration 32\n",
      "iteration 33\n",
      "iteration 34\n",
      "iteration 35\n",
      "iteration 36\n",
      "iteration 37\n",
      "iteration 38\n",
      "iteration 39\n",
      "iteration 40\n",
      "iteration 41\n",
      "iteration 42\n",
      "iteration 43\n",
      "iteration 44\n",
      "iteration 45\n",
      "iteration 46\n",
      "iteration 47\n",
      "iteration 48\n",
      "iteration 49\n",
      "iteration 50\n",
      "iteration 51\n",
      "iteration 52\n",
      "iteration 53\n",
      "iteration 54\n",
      "iteration 55\n",
      "iteration 56\n",
      "iteration 57\n",
      "iteration 58\n",
      "iteration 59\n",
      "iteration 60\n",
      "iteration 61\n",
      "iteration 62\n",
      "iteration 63\n",
      "iteration 64\n",
      "iteration 65\n",
      "iteration 66\n",
      "iteration 67\n",
      "iteration 68\n",
      "iteration 69\n",
      "iteration 70\n",
      "iteration 71\n",
      "iteration 72\n",
      "iteration 73\n",
      "iteration 74\n",
      "iteration 75\n",
      "iteration 76\n",
      "iteration 77\n",
      "iteration 78\n",
      "iteration 79\n",
      "iteration 80\n",
      "iteration 81\n",
      "iteration 82\n",
      "iteration 83\n",
      "iteration 84\n",
      "iteration 85\n",
      "iteration 86\n",
      "iteration 87\n",
      "iteration 88\n",
      "iteration 89\n",
      "iteration 90\n",
      "iteration 91\n",
      "iteration 92\n",
      "iteration 93\n",
      "iteration 94\n",
      "iteration 95\n",
      "iteration 96\n",
      "iteration 97\n",
      "iteration 98\n",
      "iteration 99\n"
     ]
    }
   ],
   "source": [
    "#D2V\n",
    "#tagged_data = [TaggedDocument(words=word_tokenize(_d.lower()), tags=[str(i)]) for i, _d in enumerate(alldata)]\n",
    "tagged_title = [TaggedDocument(words=word_tokenize(_d.lower()), tags=[str(i)]) for i, _d in enumerate(alltitle)]\n",
    "tagged_abs = [TaggedDocument(words=word_tokenize(_d.lower()), tags=[str(i)]) for i, _d in enumerate(allabs)]\n",
    "max_epochs = 100\n",
    "vec_size = 64\n",
    "alpha = 0.025\n",
    "\n",
    "model_title = Doc2Vec(size=vec_size,\n",
    "                alpha=alpha, \n",
    "                min_alpha=0.00025,\n",
    "                min_count=5,\n",
    "                workers=10,\n",
    "                dm =1)\n",
    "  \n",
    "model_title.build_vocab(tagged_title)\n",
    "\n",
    "model_abs = Doc2Vec(size=vec_size,\n",
    "                alpha=alpha, \n",
    "                min_alpha=0.00025,\n",
    "                min_count=5,\n",
    "                workers=10,\n",
    "                dm =1)\n",
    "  \n",
    "model_abs.build_vocab(tagged_abs)\n",
    "\n",
    "\n",
    "\n",
    "for epoch in range(max_epochs):\n",
    "    print('iteration {0}'.format(epoch))\n",
    "    model_title.train(tagged_title,\n",
    "                total_examples=model_title.corpus_count,\n",
    "                epochs=model_title.iter)\n",
    "    model_abs.train(tagged_abs,\n",
    "                total_examples=model_abs.corpus_count,\n",
    "                epochs=model_abs.iter)\n",
    "    # decrease the learning rate\n",
    "    model_title.alpha -= 0.0002\n",
    "    model_abs.alpha -= 0.0002\n",
    "    # fix the learning rate, no decay\n",
    "    model_title.min_alpha = model_title.alpha\n",
    "    model_abs.min_alpha = model_abs.alpha\n",
    "\n",
    "#model.save(\"d2v.model\")\n",
    "#print(\"Model Saved\")"
   ]
  },
  {
   "cell_type": "code",
   "execution_count": null,
   "metadata": {
    "collapsed": true
   },
   "outputs": [],
   "source": []
  },
  {
   "cell_type": "code",
   "execution_count": 124,
   "metadata": {
    "collapsed": true
   },
   "outputs": [],
   "source": [
    "import networkx as nx\n",
    "G = nx.read_edgelist('t2-train.txt', nodetype=int, create_using=nx.DiGraph())\n",
    "\n",
    "#negative sampling\n",
    "neg = []\n",
    "for node in G:\n",
    "    for nbr, datadict in G.adj[node].items():\n",
    "        for nnbr, datadict in G.adj[nbr].items():\n",
    "            if nnbr not in G.adj[node]:\n",
    "                neg.append(np.array([node, nnbr]))\n",
    "neg = np.array(neg)\n",
    "print(neg.shape)"
   ]
  },
  {
   "cell_type": "code",
   "execution_count": 126,
   "metadata": {},
   "outputs": [
    {
     "name": "stdout",
     "output_type": "stream",
     "text": [
      "(17500, 128)\n"
     ]
    }
   ],
   "source": [
    "np.random.shuffle(neg)\n",
    "pos_num = sum([1 for line in open('t2-train.txt')])\n",
    "neg_sample = neg[:pos_num]\n",
    "#build embeddings dict\n",
    "embeddings = []\n",
    "for i in range(len(tagged_data)):\n",
    "    title_emb = model_title.infer_vector(alltitle[i])\n",
    "    abs_emb = model_abs.infer_vector(allabs[i])\n",
    "    embeddings.append(np.hstack((title_emb, abs_emb)))\n",
    "    #embeddings.append(model.infer_vector(alldata[i]))\n",
    "embeddings = np.array(embeddings)\n",
    "print(embeddings.shape)"
   ]
  },
  {
   "cell_type": "code",
   "execution_count": 127,
   "metadata": {
    "collapsed": true
   },
   "outputs": [],
   "source": [
    "from sklearn.cross_validation import train_test_split\n",
    "from sklearn.svm import SVC\n",
    "import xgboost as xgb\n",
    "from xgboost import XGBClassifier"
   ]
  },
  {
   "cell_type": "code",
   "execution_count": 128,
   "metadata": {
    "collapsed": true
   },
   "outputs": [],
   "source": [
    "X = []\n",
    "y = []\n",
    "with open('t2-train.txt') as f:\n",
    "    for line in f:\n",
    "        id1, id2 = map(int, line.split())\n",
    "        X.append(np.hstack((embeddings[id1-1], embeddings[id2-1])))\n",
    "        y.append(1)\n",
    "    for id1, id2 in neg_sample:\n",
    "        X.append(np.hstack((embeddings[id1-1], embeddings[id2-1])))\n",
    "        y.append(0)\n",
    "X = np.array(X)\n",
    "y = np.array(y)\n",
    "X_train, X_test, y_train, y_test = train_test_split(X, y, test_size=0.1, random_state=33)"
   ]
  },
  {
   "cell_type": "code",
   "execution_count": 130,
   "metadata": {},
   "outputs": [
    {
     "name": "stdout",
     "output_type": "stream",
     "text": [
      "[0]\ttrain-logloss:0.684898\tval-logloss:0.686257\n",
      "Multiple eval metrics have been passed: 'val-logloss' will be used for early stopping.\n",
      "\n",
      "Will train until val-logloss hasn't improved in 10 rounds.\n",
      "[1]\ttrain-logloss:0.678662\tval-logloss:0.681203\n",
      "[2]\ttrain-logloss:0.675092\tval-logloss:0.677735\n",
      "[3]\ttrain-logloss:0.671338\tval-logloss:0.674592\n",
      "[4]\ttrain-logloss:0.668988\tval-logloss:0.672871\n",
      "[5]\ttrain-logloss:0.665417\tval-logloss:0.66974\n",
      "[6]\ttrain-logloss:0.663728\tval-logloss:0.668619\n",
      "[7]\ttrain-logloss:0.662071\tval-logloss:0.66741\n",
      "[8]\ttrain-logloss:0.659928\tval-logloss:0.665812\n",
      "[9]\ttrain-logloss:0.658473\tval-logloss:0.664365\n",
      "[10]\ttrain-logloss:0.657137\tval-logloss:0.663836\n",
      "[11]\ttrain-logloss:0.655422\tval-logloss:0.662183\n",
      "[12]\ttrain-logloss:0.654242\tval-logloss:0.661326\n",
      "[13]\ttrain-logloss:0.652435\tval-logloss:0.660105\n",
      "[14]\ttrain-logloss:0.651369\tval-logloss:0.659105\n",
      "[15]\ttrain-logloss:0.649234\tval-logloss:0.657405\n",
      "[16]\ttrain-logloss:0.647911\tval-logloss:0.656197\n",
      "[17]\ttrain-logloss:0.646915\tval-logloss:0.655513\n",
      "[18]\ttrain-logloss:0.645538\tval-logloss:0.65452\n",
      "[19]\ttrain-logloss:0.644244\tval-logloss:0.653551\n",
      "[20]\ttrain-logloss:0.643019\tval-logloss:0.652831\n",
      "[21]\ttrain-logloss:0.64153\tval-logloss:0.651798\n",
      "[22]\ttrain-logloss:0.640544\tval-logloss:0.65147\n",
      "[23]\ttrain-logloss:0.639822\tval-logloss:0.650982\n",
      "[24]\ttrain-logloss:0.639143\tval-logloss:0.650727\n",
      "[25]\ttrain-logloss:0.638409\tval-logloss:0.650382\n",
      "[26]\ttrain-logloss:0.637623\tval-logloss:0.650031\n",
      "[27]\ttrain-logloss:0.636125\tval-logloss:0.648854\n",
      "[28]\ttrain-logloss:0.635306\tval-logloss:0.648411\n",
      "[29]\ttrain-logloss:0.634574\tval-logloss:0.648152\n",
      "[30]\ttrain-logloss:0.634015\tval-logloss:0.6478\n",
      "[31]\ttrain-logloss:0.633586\tval-logloss:0.647629\n",
      "[32]\ttrain-logloss:0.632766\tval-logloss:0.647229\n",
      "[33]\ttrain-logloss:0.632031\tval-logloss:0.646769\n",
      "[34]\ttrain-logloss:0.630713\tval-logloss:0.645755\n",
      "[35]\ttrain-logloss:0.630203\tval-logloss:0.645653\n",
      "[36]\ttrain-logloss:0.62944\tval-logloss:0.645321\n",
      "[37]\ttrain-logloss:0.628961\tval-logloss:0.644862\n",
      "[38]\ttrain-logloss:0.628569\tval-logloss:0.644743\n",
      "[39]\ttrain-logloss:0.627738\tval-logloss:0.644145\n",
      "[40]\ttrain-logloss:0.627252\tval-logloss:0.643951\n",
      "[41]\ttrain-logloss:0.626176\tval-logloss:0.643091\n",
      "[42]\ttrain-logloss:0.625558\tval-logloss:0.642745\n",
      "[43]\ttrain-logloss:0.624553\tval-logloss:0.641705\n",
      "[44]\ttrain-logloss:0.624218\tval-logloss:0.641561\n",
      "[45]\ttrain-logloss:0.623663\tval-logloss:0.641344\n",
      "[46]\ttrain-logloss:0.622828\tval-logloss:0.640882\n",
      "[47]\ttrain-logloss:0.622055\tval-logloss:0.640331\n",
      "[48]\ttrain-logloss:0.621568\tval-logloss:0.640068\n",
      "[49]\ttrain-logloss:0.62099\tval-logloss:0.639805\n",
      "[50]\ttrain-logloss:0.620476\tval-logloss:0.639645\n",
      "[51]\ttrain-logloss:0.619589\tval-logloss:0.639065\n",
      "[52]\ttrain-logloss:0.618851\tval-logloss:0.638861\n",
      "[53]\ttrain-logloss:0.618209\tval-logloss:0.638652\n",
      "[54]\ttrain-logloss:0.617683\tval-logloss:0.638193\n",
      "[55]\ttrain-logloss:0.617067\tval-logloss:0.637788\n",
      "[56]\ttrain-logloss:0.616241\tval-logloss:0.637726\n",
      "[57]\ttrain-logloss:0.615649\tval-logloss:0.63733\n",
      "[58]\ttrain-logloss:0.615182\tval-logloss:0.637327\n",
      "[59]\ttrain-logloss:0.61454\tval-logloss:0.637311\n",
      "[60]\ttrain-logloss:0.61405\tval-logloss:0.637206\n",
      "[61]\ttrain-logloss:0.613561\tval-logloss:0.636807\n",
      "[62]\ttrain-logloss:0.613047\tval-logloss:0.636514\n",
      "[63]\ttrain-logloss:0.612626\tval-logloss:0.636611\n",
      "[64]\ttrain-logloss:0.612256\tval-logloss:0.636382\n",
      "[65]\ttrain-logloss:0.611692\tval-logloss:0.636042\n",
      "[66]\ttrain-logloss:0.611072\tval-logloss:0.635929\n",
      "[67]\ttrain-logloss:0.610719\tval-logloss:0.635777\n",
      "[68]\ttrain-logloss:0.609882\tval-logloss:0.634996\n",
      "[69]\ttrain-logloss:0.609356\tval-logloss:0.635042\n",
      "[70]\ttrain-logloss:0.608655\tval-logloss:0.634465\n",
      "[71]\ttrain-logloss:0.608087\tval-logloss:0.63413\n",
      "[72]\ttrain-logloss:0.607405\tval-logloss:0.633696\n",
      "[73]\ttrain-logloss:0.606985\tval-logloss:0.633374\n",
      "[74]\ttrain-logloss:0.606545\tval-logloss:0.633346\n",
      "[75]\ttrain-logloss:0.605982\tval-logloss:0.633202\n",
      "[76]\ttrain-logloss:0.605774\tval-logloss:0.633087\n",
      "[77]\ttrain-logloss:0.605045\tval-logloss:0.632753\n",
      "[78]\ttrain-logloss:0.604503\tval-logloss:0.632445\n",
      "[79]\ttrain-logloss:0.604099\tval-logloss:0.632134\n",
      "[80]\ttrain-logloss:0.603425\tval-logloss:0.631756\n",
      "[81]\ttrain-logloss:0.60286\tval-logloss:0.631516\n",
      "[82]\ttrain-logloss:0.602533\tval-logloss:0.631558\n",
      "[83]\ttrain-logloss:0.601841\tval-logloss:0.631012\n",
      "[84]\ttrain-logloss:0.601251\tval-logloss:0.630555\n",
      "[85]\ttrain-logloss:0.600797\tval-logloss:0.630312\n",
      "[86]\ttrain-logloss:0.600478\tval-logloss:0.630192\n",
      "[87]\ttrain-logloss:0.59998\tval-logloss:0.629864\n",
      "[88]\ttrain-logloss:0.599388\tval-logloss:0.629269\n",
      "[89]\ttrain-logloss:0.598809\tval-logloss:0.629117\n",
      "[90]\ttrain-logloss:0.598171\tval-logloss:0.62879\n",
      "[91]\ttrain-logloss:0.597721\tval-logloss:0.628611\n",
      "[92]\ttrain-logloss:0.597308\tval-logloss:0.628646\n",
      "[93]\ttrain-logloss:0.596928\tval-logloss:0.628367\n",
      "[94]\ttrain-logloss:0.59634\tval-logloss:0.628239\n",
      "[95]\ttrain-logloss:0.596031\tval-logloss:0.628272\n",
      "[96]\ttrain-logloss:0.595488\tval-logloss:0.62809\n",
      "[97]\ttrain-logloss:0.59495\tval-logloss:0.627808\n",
      "[98]\ttrain-logloss:0.594555\tval-logloss:0.627535\n",
      "[99]\ttrain-logloss:0.594187\tval-logloss:0.627356\n",
      "[100]\ttrain-logloss:0.593924\tval-logloss:0.627292\n",
      "[101]\ttrain-logloss:0.59338\tval-logloss:0.627088\n",
      "[102]\ttrain-logloss:0.59304\tval-logloss:0.627134\n",
      "[103]\ttrain-logloss:0.592613\tval-logloss:0.627025\n",
      "[104]\ttrain-logloss:0.592259\tval-logloss:0.626784\n",
      "[105]\ttrain-logloss:0.592012\tval-logloss:0.626694\n",
      "[106]\ttrain-logloss:0.59141\tval-logloss:0.62651\n",
      "[107]\ttrain-logloss:0.590903\tval-logloss:0.626443\n",
      "[108]\ttrain-logloss:0.590581\tval-logloss:0.626227\n",
      "[109]\ttrain-logloss:0.590329\tval-logloss:0.626262\n",
      "[110]\ttrain-logloss:0.589918\tval-logloss:0.626184\n",
      "[111]\ttrain-logloss:0.589419\tval-logloss:0.62617\n",
      "[112]\ttrain-logloss:0.589018\tval-logloss:0.626126\n",
      "[113]\ttrain-logloss:0.588602\tval-logloss:0.626229\n",
      "[114]\ttrain-logloss:0.588401\tval-logloss:0.626137\n",
      "[115]\ttrain-logloss:0.588147\tval-logloss:0.626219\n",
      "[116]\ttrain-logloss:0.587962\tval-logloss:0.626226\n",
      "[117]\ttrain-logloss:0.587641\tval-logloss:0.626239\n",
      "[118]\ttrain-logloss:0.587294\tval-logloss:0.626281\n",
      "[119]\ttrain-logloss:0.587125\tval-logloss:0.626271\n",
      "[120]\ttrain-logloss:0.586758\tval-logloss:0.626305\n",
      "[121]\ttrain-logloss:0.586476\tval-logloss:0.626175\n",
      "[122]\ttrain-logloss:0.586339\tval-logloss:0.626214\n",
      "Stopping. Best iteration:\n",
      "[112]\ttrain-logloss:0.589018\tval-logloss:0.626126\n",
      "\n"
     ]
    }
   ],
   "source": [
    "params = {\n",
    "    'eta': 0.4,\n",
    "    'max_depth': 4,\n",
    "    'objective': 'binary:logistic',\n",
    "    'eval_metric': 'logloss',\n",
    "    'seed': i,\n",
    "    'silent': False,\n",
    "    'nthreads':8\n",
    "}\n",
    "dtrain = xgb.DMatrix(X_train, label=y_train)\n",
    "watchlist = [(xgb.DMatrix(X_train, y_train), 'train'), (xgb.DMatrix(X_test, y_test), 'val')]\n",
    "model = xgb.train(params, dtrain, 1000, watchlist, verbose_eval=True, early_stopping_rounds=10)"
   ]
  },
  {
   "cell_type": "code",
   "execution_count": 131,
   "metadata": {
    "collapsed": true
   },
   "outputs": [],
   "source": [
    "#model.best_ntree_limit"
   ]
  },
  {
   "cell_type": "code",
   "execution_count": 132,
   "metadata": {
    "collapsed": true
   },
   "outputs": [],
   "source": [
    "#xgbc = XGBClassifier()\n",
    "#xgbc.fit(X_train, y_train)\n",
    "#print('The accuracy of eXtreme Gradient Boosting Classifier on testing set:', xgbc.score(X_test, y_test))\n"
   ]
  },
  {
   "cell_type": "code",
   "execution_count": 133,
   "metadata": {},
   "outputs": [
    {
     "name": "stdout",
     "output_type": "stream",
     "text": [
      "[0.8520391  0.59940124 0.5410446  ... 0.51097    0.7069582  0.61034423]\n"
     ]
    }
   ],
   "source": [
    "testing_data = []\n",
    "with open('t2-test.txt') as f:\n",
    "    for line in f:\n",
    "        id1, id2 = map(int, line.split())\n",
    "        testing_data.append(np.hstack((embeddings[id1-1], embeddings[id2-1])))\n",
    "testing_data = np.array(testing_data)\n",
    "pred = model.predict(xgb.DMatrix(testing_data))\n",
    "mean = np.median(pred)\n",
    "print(pred)\n",
    "pred[pred>=mean] = 1\n",
    "pred[pred<mean] = 0\n",
    "np.savetxt('pred.txt', pred.reshape(-1, 1), fmt='%d')"
   ]
  },
  {
   "cell_type": "code",
   "execution_count": 134,
   "metadata": {},
   "outputs": [
    {
     "name": "stdout",
     "output_type": "stream",
     "text": [
      "38474.0\n",
      "76947\n"
     ]
    }
   ],
   "source": [
    "print(np.sum(pred))\n",
    "print(sum([1 for a in pred]))\n"
   ]
  },
  {
   "cell_type": "code",
   "execution_count": 135,
   "metadata": {
    "collapsed": true
   },
   "outputs": [],
   "source": [
    "!python3 pred-txt-to-csv.py pred.txt"
   ]
  },
  {
   "cell_type": "code",
   "execution_count": null,
   "metadata": {
    "collapsed": true
   },
   "outputs": [],
   "source": []
  }
 ],
 "metadata": {
  "kernelspec": {
   "display_name": "Python 3",
   "language": "python",
   "name": "python3"
  },
  "language_info": {
   "codemirror_mode": {
    "name": "ipython",
    "version": 3
   },
   "file_extension": ".py",
   "mimetype": "text/x-python",
   "name": "python",
   "nbconvert_exporter": "python",
   "pygments_lexer": "ipython3",
   "version": "3.5.2"
  }
 },
 "nbformat": 4,
 "nbformat_minor": 2
}
