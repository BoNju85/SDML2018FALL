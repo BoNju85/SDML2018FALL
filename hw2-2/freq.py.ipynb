{
 "cells": [
  {
   "cell_type": "code",
   "execution_count": 9,
   "metadata": {
    "collapsed": true
   },
   "outputs": [],
   "source": [
    "import numpy as np\n",
    "import pandas as pd"
   ]
  },
  {
   "cell_type": "code",
   "execution_count": 10,
   "metadata": {
    "collapsed": true
   },
   "outputs": [],
   "source": [
    "df_rating = pd.read_csv('data/rating_train.csv')\n",
    "df_user = pd.read_csv('data/user.csv')\n",
    "df_food = pd.read_csv('data/food.csv')"
   ]
  },
  {
   "cell_type": "code",
   "execution_count": 11,
   "metadata": {
    "collapsed": true
   },
   "outputs": [],
   "source": [
    "user_group = df_rating.groupby(by='userid')"
   ]
  },
  {
   "cell_type": "code",
   "execution_count": 12,
   "metadata": {
    "collapsed": true
   },
   "outputs": [],
   "source": [
    "common_all = pd.value_counts(df_rating.foodid)[:2].index.values"
   ]
  },
  {
   "cell_type": "code",
   "execution_count": 13,
   "metadata": {
    "collapsed": true
   },
   "outputs": [],
   "source": [
    "'''for i in range(1000, 0, -50):\n",
    "    pred = []\n",
    "    for userid, rating in user_group:\n",
    "        size = len(rating)\n",
    "        tmp = pd.value_counts(rating[-i:].foodid).index.values\n",
    "\n",
    "\n",
    "        pred.append(' '.join(str(e) for e in tmp[:20]))'''\n",
    "\n",
    "umap = df_rating.userid.unique()\n",
    "df_pred = pd.DataFrame({'userid': umap, 'foodid': pred})\n",
    "\n",
    "df_pred.to_csv('pred.csv', index=False, columns=['userid', 'foodid'])"
   ]
  }
 ],
 "metadata": {
  "kernelspec": {
   "display_name": "Python 3",
   "language": "python",
   "name": "python3"
  },
  "language_info": {
   "codemirror_mode": {
    "name": "ipython",
    "version": 3
   },
   "file_extension": ".py",
   "mimetype": "text/x-python",
   "name": "python",
   "nbconvert_exporter": "python",
   "pygments_lexer": "ipython3",
   "version": "3.5.2"
  }
 },
 "nbformat": 4,
 "nbformat_minor": 2
}
