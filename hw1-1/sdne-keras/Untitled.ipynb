{
 "cells": [
  {
   "cell_type": "code",
   "execution_count": null,
   "metadata": {},
   "outputs": [
    {
     "name": "stdout",
     "output_type": "stream",
     "text": [
      "/home/dada/.local/lib/python3.5/site-packages/h5py/__init__.py:36: FutureWarning: Conversion of the second argument of issubdtype from `float` to `np.floating` is deprecated. In future, it will be treated as `np.float64 == np.dtype(float).type`.\n",
      "  from ._conv import register_converters as _register_converters\n",
      "Using TensorFlow backend.\n",
      "2018-09-27 11:54:52.765964: I tensorflow/core/platform/cpu_feature_guard.cc:140] Your CPU supports instructions that this TensorFlow binary was not compiled to use: AVX2 FMA\n",
      "2018-09-27 11:54:52.870934: I tensorflow/stream_executor/cuda/cuda_gpu_executor.cc:898] successful NUMA node read from SysFS had negative value (-1), but there must be at least one NUMA node, so returning NUMA node zero\n",
      "2018-09-27 11:54:52.871269: I tensorflow/core/common_runtime/gpu/gpu_device.cc:1356] Found device 0 with properties: \n",
      "name: GeForce GTX 1080 major: 6 minor: 1 memoryClockRate(GHz): 1.8095\n",
      "pciBusID: 0000:01:00.0\n",
      "totalMemory: 7.93GiB freeMemory: 7.80GiB\n",
      "2018-09-27 11:54:52.871284: I tensorflow/core/common_runtime/gpu/gpu_device.cc:1435] Adding visible gpu devices: 0\n",
      "2018-09-27 11:54:53.042914: I tensorflow/core/common_runtime/gpu/gpu_device.cc:923] Device interconnect StreamExecutor with strength 1 edge matrix:\n",
      "2018-09-27 11:54:53.042942: I tensorflow/core/common_runtime/gpu/gpu_device.cc:929]      0 \n",
      "2018-09-27 11:54:53.042948: I tensorflow/core/common_runtime/gpu/gpu_device.cc:942] 0:   N \n",
      "2018-09-27 11:54:53.043073: I tensorflow/core/common_runtime/gpu/gpu_device.cc:1053] Created TensorFlow device (/job:localhost/replica:0/task:0/device:GPU:0 with 1623 MB memory) -> physical GPU (device: 0, name: GeForce GTX 1080, pci bus id: 0000:01:00.0, compute capability: 6.1)\n",
      "#dev edges: 9724, #test edges: 14585\n",
      "  0%|                                                     | 0/1 [00:00<?, ?it/s]the graph is unweighted\n",
      "2018-09-27 11:54:54.113799: I tensorflow/core/common_runtime/gpu/gpu_device.cc:1435] Adding visible gpu devices: 0\n",
      "2018-09-27 11:54:54.113825: I tensorflow/core/common_runtime/gpu/gpu_device.cc:923] Device interconnect StreamExecutor with strength 1 edge matrix:\n",
      "2018-09-27 11:54:54.113831: I tensorflow/core/common_runtime/gpu/gpu_device.cc:929]      0 \n",
      "2018-09-27 11:54:54.113835: I tensorflow/core/common_runtime/gpu/gpu_device.cc:942] 0:   N \n",
      "2018-09-27 11:54:54.113941: I tensorflow/core/common_runtime/gpu/gpu_device.cc:1053] Created TensorFlow device (/job:localhost/replica:0/task:0/device:GPU:0 with 1623 MB memory) -> physical GPU (device: 0, name: GeForce GTX 1080, pci bus id: 0000:01:00.0, compute capability: 6.1)\n",
      "pre-training...\n",
      "Epoch 1/1\n",
      "14426/14426 [==============================] - 2s 133us/step - loss: 291.2859\n",
      "training...\n",
      "/home/dada/jupyter/bobo/hw1-1/sdne-keras/core.py:208: UserWarning: Update your `fit_generator` call to the Keras 2 API: `fit_generator(<generator..., callbacks=[<__main__..., epochs=10, steps_per_epoch=1365, shuffle=True, use_multiprocessing=True)`\n",
      "  **kwargs)\n",
      "Epoch 1/10\n",
      "1365/1365 [==============================] - 53s 39ms/step - loss: 41.0429 - decoding-layer-0_loss: 13.2195 - lambda_1_loss: 0.0933\n",
      "EPOCH 0\n",
      "[DEV] precision at k1:0.0 5:0.0 50:0.04 100:0.03 150:0.03333333333333333 250:0.028 400:0.0275 500:0.024 5000:0.004\n",
      "Epoch 2/10\n",
      "1365/1365 [==============================] - 53s 39ms/step - loss: 40.4226 - decoding-layer-0_loss: 13.0673 - lambda_1_loss: 0.0079\n",
      "EPOCH 1\n",
      "[DEV] precision at k1:0.0 5:0.0 50:0.02 100:0.02 150:0.013333333333333334 250:0.012 400:0.01 500:0.014 5000:0.0044\n",
      "Epoch 3/10\n",
      "1365/1365 [==============================] - 53s 39ms/step - loss: 40.2920 - decoding-layer-0_loss: 13.0672 - lambda_1_loss: 0.0049\n",
      "EPOCH 2\n",
      "[DEV] precision at k1:0.0 5:0.0 50:0.0 100:0.0 150:0.006666666666666667 250:0.004 400:0.005 500:0.004 5000:0.0034\n",
      "Epoch 4/10\n",
      "1365/1365 [==============================] - 53s 39ms/step - loss: 40.2134 - decoding-layer-0_loss: 13.0670 - lambda_1_loss: 0.0039\n",
      "EPOCH 3\n",
      "[DEV] precision at k1:0.0 5:0.0 50:0.0 100:0.0 150:0.0 250:0.0 400:0.0025 500:0.002 5000:0.003\n",
      "Epoch 5/10\n",
      "1365/1365 [==============================] - 53s 39ms/step - loss: 40.1627 - decoding-layer-0_loss: 13.0668 - lambda_1_loss: 0.0034\n",
      "EPOCH 4\n",
      "[DEV] precision at k1:0.0 5:0.0 50:0.0 100:0.0 150:0.0 250:0.0 400:0.0025 500:0.002 5000:0.003\n",
      "Epoch 6/10\n",
      "1365/1365 [==============================] - 53s 39ms/step - loss: 40.1290 - decoding-layer-0_loss: 13.0667 - lambda_1_loss: 0.0031\n",
      "EPOCH 5\n",
      "[DEV] precision at k1:0.0 5:0.0 50:0.0 100:0.0 150:0.0 250:0.0 400:0.0025 500:0.002 5000:0.003\n",
      "Epoch 7/10\n",
      "1365/1365 [==============================] - 52s 38ms/step - loss: 40.1058 - decoding-layer-0_loss: 13.0666 - lambda_1_loss: 0.0028\n",
      "EPOCH 6\n",
      "[DEV] precision at k1:0.0 5:0.0 50:0.0 100:0.0 150:0.0 250:0.0 400:0.0025 500:0.002 5000:0.003\n",
      "Epoch 8/10\n",
      "1365/1365 [==============================] - 53s 39ms/step - loss: 40.0894 - decoding-layer-0_loss: 13.0666 - lambda_1_loss: 0.0025\n",
      "EPOCH 7\n",
      "[DEV] precision at k1:0.0 5:0.0 50:0.0 100:0.0 150:0.0 250:0.0 400:0.0025 500:0.002 5000:0.0028\n",
      "Epoch 9/10\n",
      "1365/1365 [==============================] - 53s 38ms/step - loss: 40.0772 - decoding-layer-0_loss: 13.0665 - lambda_1_loss: 0.0023\n",
      "EPOCH 8\n",
      "[DEV] precision at k1:0.0 5:0.0 50:0.0 100:0.0 150:0.0 250:0.0 400:0.0025 500:0.002 5000:0.0028\n",
      "Epoch 10/10\n",
      "1365/1365 [==============================] - 53s 39ms/step - loss: 40.0677 - decoding-layer-0_loss: 13.0664 - lambda_1_loss: 0.0022\n",
      "Traceback (most recent call last):\n",
      "  File \"link_prediction.py\", line 136, in <module>\n",
      "    for params in tqdm(parameter_dicts)]\n",
      "  File \"link_prediction.py\", line 136, in <listcomp>\n",
      "    for params in tqdm(parameter_dicts)]\n",
      "  File \"link_prediction.py\", line 132, in one_run\n",
      "    return [eval_callback.map, test_result]\n",
      "AttributeError: 'PrecisionAtKEval' object has no attribute 'map'\n"
     ]
    }
   ],
   "source": [
    "!python3 link_prediction.py"
   ]
  },
  {
   "cell_type": "code",
   "execution_count": null,
   "metadata": {
    "collapsed": true
   },
   "outputs": [],
   "source": []
  }
 ],
 "metadata": {
  "kernelspec": {
   "display_name": "Python 3",
   "language": "python",
   "name": "python3"
  },
  "language_info": {
   "codemirror_mode": {
    "name": "ipython",
    "version": 3
   },
   "file_extension": ".py",
   "mimetype": "text/x-python",
   "name": "python",
   "nbconvert_exporter": "python",
   "pygments_lexer": "ipython3",
   "version": "3.5.2"
  }
 },
 "nbformat": 4,
 "nbformat_minor": 2
}
