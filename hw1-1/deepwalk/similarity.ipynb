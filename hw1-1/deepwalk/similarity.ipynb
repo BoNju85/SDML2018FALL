{
 "cells": [
  {
   "cell_type": "code",
   "execution_count": null,
   "metadata": {
    "collapsed": true
   },
   "outputs": [],
   "source": [
    "import numpy as np"
   ]
  },
  {
   "cell_type": "code",
   "execution_count": null,
   "metadata": {},
   "outputs": [],
   "source": [
    "#Get Embeddings of All Training Data\n",
    "embeddings = {}\n",
    "with open('All-train.embeddings') as f:\n",
    "    node_n, dim = map(int, f.readline().split())\n",
    "    print(node_n, dim)\n",
    "    for line in f:\n",
    "        #print(line.split())\n",
    "        tmp = list(map(float, line.split()))\n",
    "        #print(tmp)\n",
    "        id = int(tmp[0])\n",
    "        em = tmp[1:]\n",
    "        embeddings[id] = em\n"
   ]
  },
  {
   "cell_type": "code",
   "execution_count": null,
   "metadata": {
    "collapsed": true
   },
   "outputs": [],
   "source": [
    "from scipy import spatial\n",
    "result = []\n",
    "unseen = []\n",
    "count = 0\n",
    "with open('../t1-test.txt') as f:\n",
    "    for line in f:\n",
    "        id1, id2 = map(int, line.split())\n",
    "        if id1 not in embeddings:\n",
    "            unseen.append(id1)\n",
    "        if id2 not in embeddings:\n",
    "            unseen.append(id2)\n",
    "        try:\n",
    "            result.append(1 - spatial.distance.cosine(embeddings[id1], embeddings[id2]))\n",
    "        except KeyError:\n",
    "            #print(id1, id2)\n",
    "            result.append(1)\n",
    "result = np.array(result)\n",
    "mean = np.mean(result)"
   ]
  },
  {
   "cell_type": "code",
   "execution_count": null,
   "metadata": {
    "collapsed": true
   },
   "outputs": [],
   "source": [
    "result[result<mean] = 0\n",
    "result[result>=mean] = 1\n",
    "np.savetxt('pred.txt', result.reshape((-1, 1)), fmt='%d')"
   ]
  },
  {
   "cell_type": "code",
   "execution_count": null,
   "metadata": {
    "collapsed": true
   },
   "outputs": [],
   "source": [
    "result[result<mean] = 0\n",
    "result[result>=mean] = 1\n",
    "np.savetxt('pred.txt', result.reshape((-1, 1)), fmt='%d')"
   ]
  }
 ],
 "metadata": {
  "kernelspec": {
   "display_name": "Python 3",
   "language": "python",
   "name": "python3"
  },
  "language_info": {
   "codemirror_mode": {
    "name": "ipython",
    "version": 3
   },
   "file_extension": ".py",
   "mimetype": "text/x-python",
   "name": "python",
   "nbconvert_exporter": "python",
   "pygments_lexer": "ipython3",
   "version": "3.5.2"
  }
 },
 "nbformat": 4,
 "nbformat_minor": 2
}
