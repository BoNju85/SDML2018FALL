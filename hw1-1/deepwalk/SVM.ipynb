{
 "cells": [
  {
   "cell_type": "code",
   "execution_count": 1,
   "metadata": {
    "collapsed": true
   },
   "outputs": [],
   "source": [
    "import numpy as np\n",
    "import matplotlib.pyplot as plt\n",
    "from sklearn import svm\n",
    "import networkx as nx"
   ]
  },
  {
   "cell_type": "code",
   "execution_count": 2,
   "metadata": {
    "collapsed": true
   },
   "outputs": [],
   "source": [
    "np.random.seed(0)"
   ]
  },
  {
   "cell_type": "code",
   "execution_count": 3,
   "metadata": {},
   "outputs": [
    {
     "name": "stdout",
     "output_type": "stream",
     "text": [
      "29402 128\n"
     ]
    }
   ],
   "source": [
    "embeddings = {}\n",
    "with open('All-train.embeddings') as f:\n",
    "    node_n, dim = map(int, f.readline().split())\n",
    "    print(node_n, dim)\n",
    "    for line in f:\n",
    "        #print(line.split())\n",
    "        tmp = list(map(float, line.split()))\n",
    "        #print(tmp)\n",
    "        id = int(tmp[0])\n",
    "        em = tmp[1:]\n",
    "        embeddings[id] = em"
   ]
  },
  {
   "cell_type": "code",
   "execution_count": 4,
   "metadata": {
    "collapsed": true
   },
   "outputs": [],
   "source": [
    "G = nx.read_edgelist('../All-train.txt', nodetype=int, create_using=nx.DiGraph()) "
   ]
  },
  {
   "cell_type": "code",
   "execution_count": 5,
   "metadata": {
    "collapsed": true
   },
   "outputs": [],
   "source": [
    "negative = []\n",
    "for node in G:\n",
    "    for first in G[node]:\n",
    "        for second in G[first]:\n",
    "            negative.append((node, second))\n",
    "negative = np.array(negative)\n",
    "#print(len(negative))"
   ]
  },
  {
   "cell_type": "code",
   "execution_count": 6,
   "metadata": {
    "collapsed": true
   },
   "outputs": [],
   "source": [
    "import random\n",
    "sample = np.random.choice(len(negative)+1, G.number_of_edges())"
   ]
  },
  {
   "cell_type": "code",
   "execution_count": 7,
   "metadata": {},
   "outputs": [
    {
     "name": "stdout",
     "output_type": "stream",
     "text": [
      "(285789, 2)\n"
     ]
    }
   ],
   "source": [
    "print(negative[sample].shape)"
   ]
  },
  {
   "cell_type": "code",
   "execution_count": 8,
   "metadata": {},
   "outputs": [
    {
     "name": "stdout",
     "output_type": "stream",
     "text": [
      "(285789, 2)\n"
     ]
    }
   ],
   "source": [
    "positive = []\n",
    "with open('../All-train.txt') as f:\n",
    "    for line in f:\n",
    "        positive.append(np.array(list(map(int, line.split()))))\n",
    "positive = np.array(positive)\n",
    "print(positive.shape)"
   ]
  },
  {
   "cell_type": "code",
   "execution_count": 9,
   "metadata": {
    "collapsed": true
   },
   "outputs": [],
   "source": [
    "X = np.vstack((positive, negative[sample]))\n",
    "Y = [1] * len(positive) + [0] * len(negative[sample])"
   ]
  },
  {
   "cell_type": "code",
   "execution_count": 10,
   "metadata": {},
   "outputs": [
    {
     "name": "stdout",
     "output_type": "stream",
     "text": [
      "(571578, 256)\n"
     ]
    }
   ],
   "source": [
    "data = []\n",
    "for id1, id2 in X:\n",
    "    data.append(np.append(embeddings[id1], embeddings[id2]))\n",
    "data = np.array(data)\n",
    "print(data.shape)"
   ]
  },
  {
   "cell_type": "code",
   "execution_count": 32,
   "metadata": {
    "collapsed": true
   },
   "outputs": [],
   "source": [
    "from sklearn import svm\n",
    "g_svm = svm.LinearSVC(C=1e10, dual=False, verbose=True)"
   ]
  },
  {
   "cell_type": "code",
   "execution_count": 33,
   "metadata": {},
   "outputs": [
    {
     "name": "stdout",
     "output_type": "stream",
     "text": [
      "[LibLinear]"
     ]
    },
    {
     "data": {
      "text/plain": [
       "LinearSVC(C=10000000000.0, class_weight=None, dual=False, fit_intercept=True,\n",
       "     intercept_scaling=1, loss='squared_hinge', max_iter=1000,\n",
       "     multi_class='ovr', penalty='l2', random_state=None, tol=0.0001,\n",
       "     verbose=True)"
      ]
     },
     "execution_count": 33,
     "metadata": {},
     "output_type": "execute_result"
    }
   ],
   "source": [
    "g_svm.fit(data, Y)"
   ]
  },
  {
   "cell_type": "code",
   "execution_count": 34,
   "metadata": {},
   "outputs": [],
   "source": [
    "pred = []\n",
    "with open('../t1-test.txt') as f:\n",
    "    for line in f:\n",
    "        id1, id2 = map(int, line.split())\n",
    "        try:\n",
    "            testdata = np.append(embeddings[id1], embeddings[id2])\n",
    "            tmp = g_svm.predict([testdata])\n",
    "            pred.append(tmp[0])\n",
    "        except:\n",
    "            pred.append(1)\n",
    "pred = np.array(pred)"
   ]
  },
  {
   "cell_type": "code",
   "execution_count": 35,
   "metadata": {},
   "outputs": [],
   "source": [
    "np.savetxt('pred.txt', pred.reshape(-1, 1), fmt='%d')"
   ]
  },
  {
   "cell_type": "code",
   "execution_count": 36,
   "metadata": {
    "collapsed": true
   },
   "outputs": [],
   "source": [
    "!python3 ../pred-txt-to-csv.py pred.txt"
   ]
  },
  {
   "cell_type": "code",
   "execution_count": null,
   "metadata": {
    "collapsed": true
   },
   "outputs": [],
   "source": []
  }
 ],
 "metadata": {
  "kernelspec": {
   "display_name": "Python 3",
   "language": "python",
   "name": "python3"
  },
  "language_info": {
   "codemirror_mode": {
    "name": "ipython",
    "version": 3
   },
   "file_extension": ".py",
   "mimetype": "text/x-python",
   "name": "python",
   "nbconvert_exporter": "python",
   "pygments_lexer": "ipython3",
   "version": "3.5.2"
  }
 },
 "nbformat": 4,
 "nbformat_minor": 2
}
